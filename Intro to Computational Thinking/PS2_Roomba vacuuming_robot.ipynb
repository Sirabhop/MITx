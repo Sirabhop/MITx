{
 "cells": [
  {
   "cell_type": "markdown",
   "metadata": {},
   "source": [
    "# **Problem Set2: Roomba vacuuming robot**"
   ]
  },
  {
   "cell_type": "code",
   "execution_count": 9,
   "metadata": {},
   "outputs": [],
   "source": [
    "import math\n",
    "import random\n",
    "import os\n",
    "\n",
    "os.chdir('/Users/rose/Desktop/MITX_Computer_Science/pset2')\n",
    "import ps2_visualize\n",
    "import pylab\n",
    "from ps2_verify_movement310 import testRobotMovement"
   ]
  },
  {
   "cell_type": "markdown",
   "metadata": {},
   "source": [
    "### **Class Position**"
   ]
  },
  {
   "cell_type": "code",
   "execution_count": 16,
   "metadata": {},
   "outputs": [],
   "source": [
    "class Position(object):\n",
    "    \"\"\"\n",
    "    A Position represents a location in a two-dimensional room.\n",
    "    \"\"\"\n",
    "    def __init__(self, x, y):\n",
    "        \"\"\"\n",
    "        Initializes a position with coordinates (x, y).\n",
    "        \"\"\"\n",
    "        self.x = x\n",
    "        self.y = y\n",
    "        \n",
    "    def getX(self):\n",
    "        return self.x\n",
    "    \n",
    "    def getY(self):\n",
    "        return self.y\n",
    "    \n",
    "    def getNewPosition(self, angle, speed):\n",
    "        \"\"\"\n",
    "        Computes and returns the new Position after a single clock-tick has\n",
    "        passed, with this object as the current position, and with the\n",
    "        specified angle and speed.\n",
    "\n",
    "        Does NOT test whether the returned position fits inside the room.\n",
    "\n",
    "        angle: number representing angle in degrees, 0 <= angle < 360\n",
    "        speed: positive float representing speed\n",
    "\n",
    "        Returns: a Position object representing the new position.\n",
    "        \"\"\"\n",
    "        old_x, old_y = self.getX(), self.getY()\n",
    "        angle = float(angle)\n",
    "        # Compute the change in position\n",
    "        delta_y = speed * math.cos(math.radians(angle))\n",
    "        delta_x = speed * math.sin(math.radians(angle))\n",
    "        # Add that to the existing position\n",
    "        new_x = old_x + delta_x\n",
    "        new_y = old_y + delta_y\n",
    "        return Position(new_x, new_y)"
   ]
  },
  {
   "cell_type": "markdown",
   "metadata": {},
   "source": [
    "### **Class Room**"
   ]
  },
  {
   "cell_type": "code",
   "execution_count": 17,
   "metadata": {},
   "outputs": [],
   "source": [
    "class RectangularRoom(object):\n",
    "    \"\"\"\n",
    "    A RectangularRoom represents a rectangular region containing clean or dirty\n",
    "    tiles.\n",
    "\n",
    "    A room has a width and a height and contains (width * height) tiles. At any\n",
    "    particular time, each of these tiles is either clean or dirty.\n",
    "    \"\"\"\n",
    "    def __init__(self, width, height):\n",
    "        \"\"\"\n",
    "        Initializes a rectangular room with the specified width and height.ศ\n",
    "\n",
    "        Initially, no tiles in the room have been cleaned.\n",
    "\n",
    "        width: an integer > 0\n",
    "        height: an integer > 0\n",
    "        \"\"\"\n",
    "        self.height = height\n",
    "        self.width = width\n",
    "        self.area = {}\n",
    "        for i in range(width):\n",
    "            for j in range(height):\n",
    "                self.area[(i, j)] = False\n",
    "    def cleanTileAtPosition(self, pos):\n",
    "        \"\"\"\n",
    "        Mark the tile under the position POS as cleaned.\n",
    "\n",
    "        Assumes that POS represents a valid position inside this room.\n",
    "\n",
    "        pos: a Position\n",
    "        \"\"\"\n",
    "        x = int(pos.getX())\n",
    "        y = int(pos.getY())\n",
    "        if (x, y) in self.area:\n",
    "            self.area[(x, y)] = True\n",
    "    def isTileCleaned(self, m, n):\n",
    "        \"\"\"\n",
    "        Return True if the tile (m, n) has been cleaned.\n",
    "\n",
    "        Assumes that (m, n) represents a valid tile inside the room.\n",
    "\n",
    "        m: an integer\n",
    "        n: an integer\n",
    "        returns: True if (m, n) is cleaned, False otherwise\n",
    "        \"\"\"\n",
    "        return self.area[(m, n)]\n",
    "    def getNumTiles(self):\n",
    "        \"\"\"\n",
    "        Return the total number of tiles in the room.\n",
    "\n",
    "        returns: an integer\n",
    "        \"\"\"\n",
    "        return len(self.area)\n",
    "    def getNumCleanedTiles(self):\n",
    "        \"\"\"\n",
    "        Return the total number of clean tiles in the room.\n",
    "\n",
    "        returns: an integer\n",
    "        \"\"\"\n",
    "        count = 0\n",
    "        for tile in self.area.items():\n",
    "          if tile[1] == True:\n",
    "            count += 1\n",
    "        return count\n",
    "    def getRandomPosition(self):\n",
    "        \"\"\"\n",
    "        Return a random position inside the room.\n",
    "\n",
    "        returns: a Position object.\n",
    "        \"\"\"\n",
    "        rand_pos = random.choice(list(self.area.keys()))\n",
    "        return Position(rand_pos[0], rand_pos[1])\n",
    "    def isPositionInRoom(self, pos):\n",
    "        \"\"\"\n",
    "        Return True if pos is inside the room.\n",
    "\n",
    "        pos: a Position object.\n",
    "        returns: True if pos is in the room, False otherwise.\n",
    "        \"\"\"  \n",
    "        fl_x = math.floor(pos.getX())\n",
    "        fl_y = math.floor(pos.getY())\n",
    "        if (fl_x, fl_y) in list(self.area.keys()):\n",
    "          return True\n",
    "        else:\n",
    "          return False\n"
   ]
  },
  {
   "cell_type": "markdown",
   "metadata": {},
   "source": [
    "### **Class Robot**"
   ]
  },
  {
   "cell_type": "code",
   "execution_count": 18,
   "metadata": {},
   "outputs": [],
   "source": [
    "class Robot(object):\n",
    "    \"\"\"\n",
    "    Represents a robot cleaning a particular room.\n",
    "\n",
    "    At all times the robot has a particular position and direction in the room.\n",
    "    The robot also has a fixed speed.\n",
    "\n",
    "    Subclasses of Robot should provide movement strategies by implementing\n",
    "    updatePositionAndClean(), which simulates a single time-step.\n",
    "    \"\"\"\n",
    "    def __init__(self, room, speed):\n",
    "        \"\"\"\n",
    "        Initializes a Robot with the given speed in the specified room. The\n",
    "        robot initially has a random direction and a random position in the\n",
    "        room. The robot cleans the tile it is on.\n",
    "\n",
    "        room:  a RectangularRoom object.\n",
    "        speed: a float (speed > 0)\n",
    "        \"\"\"\n",
    "        self.speed = speed\n",
    "        self.room = room\n",
    "        self.position = room.getRandomPosition()\n",
    "        self.direction = random.randint(0, 360)\n",
    "        self.room.cleanTileAtPosition(self.position)\n",
    "\n",
    "    def getRobotPosition(self):\n",
    "        \"\"\"\n",
    "        Return the position of the robot.\n",
    "\n",
    "        returns: a Position object giving the robot's position.\n",
    "        \"\"\"\n",
    "        return self.position\n",
    "    \n",
    "    def getRobotDirection(self):\n",
    "        \"\"\"\n",
    "        Return the direction of the robot.\n",
    "\n",
    "        returns: an integer d giving the direction of the robot as an angle in\n",
    "        degrees, 0 <= d < 360.\n",
    "        \"\"\"\n",
    "        return self.direction\n",
    "\n",
    "    def setRobotPosition(self, position):\n",
    "        \"\"\"\n",
    "        Set the position of the robot to POSITION.\n",
    "\n",
    "        position: a Position object.\n",
    "        \"\"\"\n",
    "        self.position = position\n",
    "\n",
    "    def setRobotDirection(self, direction):\n",
    "        \"\"\"\n",
    "        Set the direction of the robot to DIRECTION.\n",
    "\n",
    "        direction: integer representing an angle in degrees\n",
    "        \"\"\"\n",
    "        self.direction = direction\n",
    "\n",
    "    def updatePositionAndClean(self):\n",
    "        \"\"\"\n",
    "        Simulate the passage of a single time-step.\n",
    "\n",
    "        Move the robot to a new position and mark the tile it is on as having\n",
    "        been cleaned.\n",
    "        \"\"\"\n",
    "        \n",
    "        raise NotImplementedError # don't change this!"
   ]
  },
  {
   "cell_type": "markdown",
   "metadata": {},
   "source": [
    "### **Class Standard Robot**"
   ]
  },
  {
   "cell_type": "code",
   "execution_count": 19,
   "metadata": {},
   "outputs": [],
   "source": [
    "class StandardRobot(Robot):\n",
    "    \"\"\"\n",
    "    A StandardRobot is a Robot with the standard movement strategy.\n",
    "\n",
    "    At each time-step, a StandardRobot attempts to move in its current\n",
    "    direction; when it would hit a wall, it *instead* chooses a new direction\n",
    "    randomly.\n",
    "    \"\"\"\n",
    "    def updatePositionAndClean(self):\n",
    "        \"\"\"\n",
    "        Simulate the passage of a single time-step.\n",
    "\n",
    "        Move the robot to a new position and mark the tile it is on as having\n",
    "        been cleaned.\n",
    "        \"\"\"\n",
    "        speed = self.speed\n",
    "        current_pos = self.getRobotPosition()\n",
    "        current_dir = self.getRobotDirection()\n",
    "\n",
    "        new_pos = current_pos.getNewPosition(current_dir, speed)\n",
    "        \n",
    "        if self.room.isPositionInRoom(new_pos) == False:\n",
    "            self.setRobotDirection(random.randint(0, 360))\n",
    "            new_pos = current_pos\n",
    "        \n",
    "        self.setRobotPosition(new_pos)\n",
    "        self.room.cleanTileAtPosition(new_pos)"
   ]
  },
  {
   "cell_type": "markdown",
   "metadata": {},
   "source": [
    "### **Run a complete code simulation**"
   ]
  },
  {
   "cell_type": "code",
   "execution_count": 65,
   "metadata": {},
   "outputs": [],
   "source": [
    "def runSimulation(num_robots, speed, width, height, min_coverage, num_trials,\n",
    "                  robot_type):\n",
    "    \"\"\"\n",
    "    Runs NUM_TRIALS trials of the simulation and returns the mean number of\n",
    "    time-steps needed to clean the fraction MIN_COVERAGE of the room.\n",
    "\n",
    "    The simulation is run with NUM_ROBOTS robots of type ROBOT_TYPE, each with\n",
    "    speed SPEED, in a room of dimensions WIDTH x HEIGHT.\n",
    "\n",
    "    num_robots: an int (num_robots > 0)\n",
    "    speed: a float (speed > 0)\n",
    "    width: an int (width > 0)\n",
    "    height: an int (height > 0)\n",
    "    min_coverage: a float (0 <= min_coverage <= 1.0)\n",
    "    num_trials: an int (num_trials > 0)\n",
    "    robot_type: class of robot to be instantiated (e.g. StandardRobot or\n",
    "                RandomWalkRobot)\n",
    "    \"\"\"\n",
    "    #1. Initiate room\n",
    "    room = RectangularRoom(width, height)\n",
    "\n",
    "    #2. Build robots\n",
    "    robots = []\n",
    "    for i in range(num_robots):\n",
    "        robots.append(robot_type(room, speed))\n",
    "\n",
    "    #3. Get robot moving  \n",
    "    all_count = []\n",
    "    for i in range(num_trials):\n",
    "        count = 0\n",
    "        total_tile = room.getNumTiles()\n",
    "        current_tile = room.getNumCleanedTiles()\n",
    "        coverage = current_tile/total_tile\n",
    "        while coverage < min_coverage:\n",
    "            total_tile = room.getNumTiles()\n",
    "            current_tile = room.getNumCleanedTiles()\n",
    "            coverage = current_tile/total_tile\n",
    "            for robot in robots:\n",
    "                robot.updatePositionAndClean()\n",
    "            count += 1\n",
    "        all_count.append(count)\n",
    "        room = RectangularRoom(width, height)\n",
    "        robots = []\n",
    "        for i in range(num_robots):\n",
    "            robots.append(robot_type(room, speed))\n",
    "    return sum(all_count)/len(all_count)"
   ]
  },
  {
   "cell_type": "markdown",
   "metadata": {},
   "source": [
    "### **Class Randomwalk**"
   ]
  },
  {
   "cell_type": "code",
   "execution_count": 68,
   "metadata": {},
   "outputs": [],
   "source": [
    "class RandomWalkRobot(Robot):\n",
    "    \"\"\"\n",
    "    A RandomWalkRobot is a robot with the \"random walk\" movement strategy: it\n",
    "    chooses a new direction at random at the end of each time-step.\n",
    "    \"\"\"\n",
    "    def updatePositionAndClean(self):\n",
    "        \"\"\"\n",
    "        Simulate the passage of a single time-step.\n",
    "\n",
    "        Move the robot to a new position and mark the tile it is on as having\n",
    "        been cleaned.\n",
    "        \"\"\"\n",
    "        speed = self.speed\n",
    "        current_pos = self.getRobotPosition()\n",
    "        current_dir = self.getRobotDirection()\n",
    "\n",
    "        new_pos = current_pos.getNewPosition(current_dir, speed)\n",
    "        \n",
    "        if self.room.isPositionInRoom(new_pos) == False:\n",
    "            self.setRobotDirection(random.randint(0, 360))\n",
    "            new_pos = current_pos\n",
    "        else:\n",
    "            self.setRobotDirection(random.randint(0, 360))\n",
    "        \n",
    "        self.setRobotPosition(new_pos)\n",
    "        self.room.cleanTileAtPosition(new_pos)"
   ]
  },
  {
   "cell_type": "code",
   "execution_count": 67,
   "metadata": {},
   "outputs": [
    {
     "name": "stdout",
     "output_type": "stream",
     "text": [
      "188.3\n"
     ]
    }
   ],
   "source": [
    "print(runSimulation(1, 1.0, 10, 10, 0.75, 30, StandardRobot))"
   ]
  },
  {
   "cell_type": "code",
   "execution_count": 69,
   "metadata": {},
   "outputs": [],
   "source": [
    "def showPlot1(title, x_label, y_label):\n",
    "    \"\"\"\n",
    "    What information does the plot produced by this function tell you?\n",
    "    \"\"\"\n",
    "    num_robot_range = range(1, 11)\n",
    "    times1 = []\n",
    "    times2 = []\n",
    "    for num_robots in num_robot_range:\n",
    "        print(\"Plotting\", num_robots, \"robots...\")\n",
    "        times1.append(runSimulation(num_robots, 1.0, 20, 20, 0.8, 20, StandardRobot))\n",
    "        times2.append(runSimulation(num_robots, 1.0, 20, 20, 0.8, 20, RandomWalkRobot))\n",
    "    pylab.plot(num_robot_range, times1)\n",
    "    pylab.plot(num_robot_range, times2)\n",
    "    pylab.title(title)\n",
    "    pylab.legend(('StandardRobot', 'RandomWalkRobot'))\n",
    "    pylab.xlabel(x_label)\n",
    "    pylab.ylabel(y_label)\n",
    "    pylab.show()"
   ]
  },
  {
   "cell_type": "code",
   "execution_count": 71,
   "metadata": {},
   "outputs": [
    {
     "name": "stdout",
     "output_type": "stream",
     "text": [
      "Plotting 1 robots...\n",
      "Plotting 2 robots...\n",
      "Plotting 3 robots...\n",
      "Plotting 4 robots...\n",
      "Plotting 5 robots...\n",
      "Plotting 6 robots...\n",
      "Plotting 7 robots...\n",
      "Plotting 8 robots...\n",
      "Plotting 9 robots...\n",
      "Plotting 10 robots...\n"
     ]
    },
    {
     "data": {
      "image/png": "[encoded data removed]",
      "text/plain": [
       "<Figure size 432x288 with 1 Axes>"
      ]
     },
     "metadata": {
      "needs_background": "light"
     },
     "output_type": "display_data"
    }
   ],
   "source": [
    "showPlot1('Robots', 'amount of robots', 'time')"
   ]
  },
  {
   "cell_type": "code",
   "execution_count": 72,
   "metadata": {},
   "outputs": [],
   "source": [
    "def showPlot2(title, x_label, y_label):\n",
    "    \"\"\"\n",
    "    What information does the plot produced by this function tell you?\n",
    "    \"\"\"\n",
    "    aspect_ratios = []\n",
    "    times1 = []\n",
    "    times2 = []\n",
    "    for width in [10, 20, 25, 50]:\n",
    "        height = 300//width\n",
    "        print(\"Plotting cleaning time for a room of width:\", width, \"by height:\", height)\n",
    "        aspect_ratios.append(float(width) / height)\n",
    "        times1.append(runSimulation(2, 1.0, width, height, 0.8, 200, StandardRobot))\n",
    "        times2.append(runSimulation(2, 1.0, width, height, 0.8, 200, RandomWalkRobot))\n",
    "    pylab.plot(aspect_ratios, times1)\n",
    "    pylab.plot(aspect_ratios, times2)\n",
    "    pylab.title(title)\n",
    "    pylab.legend(('StandardRobot', 'RandomWalkRobot'))\n",
    "    pylab.xlabel(x_label)\n",
    "    pylab.ylabel(y_label)\n",
    "    pylab.show()"
   ]
  },
  {
   "cell_type": "code",
   "execution_count": 73,
   "metadata": {},
   "outputs": [
    {
     "name": "stdout",
     "output_type": "stream",
     "text": [
      "Plotting cleaning time for a room of width: 10 by height: 30\n",
      "Plotting cleaning time for a room of width: 20 by height: 15\n",
      "Plotting cleaning time for a room of width: 25 by height: 12\n",
      "Plotting cleaning time for a room of width: 50 by height: 6\n"
     ]
    },
    {
     "data": {
      "image/png": "[encoded data removed]",
      "text/plain": [
       "<Figure size 432x288 with 1 Axes>"
      ]
     },
     "metadata": {
      "needs_background": "light"
     },
     "output_type": "display_data"
    }
   ],
   "source": [
    "showPlot2('robot', 'size of the room', 'time')"
   ]
  }
 ],
 "metadata": {
  "interpreter": {
   "hash": "aee8b7b246df8f9039afb4144a1f6fd8d2ca17a180786b69acc140d282b71a49"
  },
  "kernelspec": {
   "display_name": "Python 3.10.4 64-bit",
   "language": "python",
   "name": "python3"
  },
  "language_info": {
   "codemirror_mode": {
    "name": "ipython",
    "version": 3
   },
   "file_extension": ".py",
   "mimetype": "text/x-python",
   "name": "python",
   "nbconvert_exporter": "python",
   "pygments_lexer": "ipython3",
   "version": "3.10.4"
  },
  "orig_nbformat": 4
 },
 "nbformat": 4,
 "nbformat_minor": 2
}
